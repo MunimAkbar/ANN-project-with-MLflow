{
 "cells": [
  {
   "cell_type": "code",
   "execution_count": 1,
   "id": "a9162460",
   "metadata": {},
   "outputs": [
    {
     "name": "stdout",
     "output_type": "stream",
     "text": [
      "hello\n"
     ]
    }
   ],
   "source": [
    "print(\"hello\")"
   ]
  },
  {
   "cell_type": "code",
   "execution_count": 1,
   "id": "9b872739",
   "metadata": {},
   "outputs": [],
   "source": [
    "import mlflow"
   ]
  },
  {
   "cell_type": "code",
   "execution_count": 2,
   "id": "dcdb45f3",
   "metadata": {},
   "outputs": [],
   "source": [
    "mlflow.set_tracking_uri(\"http://127.0.0.1:5000\")"
   ]
  },
  {
   "cell_type": "code",
   "execution_count": 3,
   "id": "93c74074",
   "metadata": {},
   "outputs": [
    {
     "name": "stderr",
     "output_type": "stream",
     "text": [
      "2025/09/04 14:21:00 INFO mlflow.tracking.fluent: Experiment with name 'first_experiment - connection test' does not exist. Creating a new experiment.\n"
     ]
    },
    {
     "name": "stdout",
     "output_type": "stream",
     "text": [
      "🏃 View run treasured-flea-779 at: http://127.0.0.1:5000/#/experiments/259950921519413876/runs/24a925bc1e134670a21c908a5282b687\n",
      "🧪 View experiment at: http://127.0.0.1:5000/#/experiments/259950921519413876\n"
     ]
    }
   ],
   "source": [
    "mlflow.set_experiment(\"first_experiment - connection test\")\n",
    "with mlflow.start_run():\n",
    "    mlflow.log_metric(\"metric1\", 1)\n",
    "    mlflow.log_metric(\"get-started.ipynb\", 2)"
   ]
  },
  {
   "cell_type": "code",
   "execution_count": 4,
   "id": "7eb3b2b2",
   "metadata": {},
   "outputs": [
    {
     "name": "stdout",
     "output_type": "stream",
     "text": [
      "🏃 View run tasteful-stag-497 at: http://127.0.0.1:5000/#/experiments/259950921519413876/runs/7b68ef9b6f364db6abe438279143101c\n",
      "🧪 View experiment at: http://127.0.0.1:5000/#/experiments/259950921519413876\n"
     ]
    }
   ],
   "source": [
    "with mlflow.start_run():\n",
    "    mlflow.log_metric(\"metric2\", 2)\n",
    "    mlflow.log_metric(\"get-started.ipynb\", 3)\n",
    "    mlflow.log_param(\"param1\", 5)   "
   ]
  },
  {
   "cell_type": "code",
   "execution_count": 5,
   "id": "532189c0",
   "metadata": {},
   "outputs": [],
   "source": [
    "import pandas as pd\n",
    "import numpy as np  "
   ]
  },
  {
   "cell_type": "code",
   "execution_count": null,
   "id": "96923db2",
   "metadata": {},
   "outputs": [],
   "source": []
  }
 ],
 "metadata": {
  "kernelspec": {
   "display_name": "starter",
   "language": "python",
   "name": "python3"
  },
  "language_info": {
   "codemirror_mode": {
    "name": "ipython",
    "version": 3
   },
   "file_extension": ".py",
   "mimetype": "text/x-python",
   "name": "python",
   "nbconvert_exporter": "python",
   "pygments_lexer": "ipython3",
   "version": "3.10.18"
  }
 },
 "nbformat": 4,
 "nbformat_minor": 5
}
